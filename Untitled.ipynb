{
 "cells": [
  {
   "cell_type": "code",
   "execution_count": 1,
   "id": "56982503-47fb-4dd6-8a27-10fbc8d32fb6",
   "metadata": {},
   "outputs": [],
   "source": [
    "a = [[{'scores':3.3, 'labels':5}], [{'scores':1.6, 'labels':9}]]"
   ]
  },
  {
   "cell_type": "code",
   "execution_count": 3,
   "id": "b5dacecc-f3ce-46a1-b9a5-9120b2d844c8",
   "metadata": {},
   "outputs": [],
   "source": [
    "for i in a:\n",
    "    for j in i:\n",
    "        for v, k in j.items():\n",
    "            k = int(k)"
   ]
  },
  {
   "cell_type": "code",
   "execution_count": 4,
   "id": "2f8eca14-e80e-4c2b-9c18-3aa017229feb",
   "metadata": {},
   "outputs": [
    {
     "data": {
      "text/plain": [
       "[[{'scores': 3.3, 'labels': 5}], [{'scores': 1.6, 'labels': 9}]]"
      ]
     },
     "execution_count": 4,
     "metadata": {},
     "output_type": "execute_result"
    }
   ],
   "source": [
    "a"
   ]
  },
  {
   "cell_type": "code",
   "execution_count": null,
   "id": "096d5d40-7239-4d05-bf4a-97ff17ec655c",
   "metadata": {},
   "outputs": [],
   "source": []
  }
 ],
 "metadata": {
  "kernelspec": {
   "display_name": "Python 3 (ipykernel)",
   "language": "python",
   "name": "python3"
  },
  "language_info": {
   "codemirror_mode": {
    "name": "ipython",
    "version": 3
   },
   "file_extension": ".py",
   "mimetype": "text/x-python",
   "name": "python",
   "nbconvert_exporter": "python",
   "pygments_lexer": "ipython3",
   "version": "3.10.6"
  }
 },
 "nbformat": 4,
 "nbformat_minor": 5
}
