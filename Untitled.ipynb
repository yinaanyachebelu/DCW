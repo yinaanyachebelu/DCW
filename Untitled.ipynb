{
 "cells": [
  {
   "cell_type": "code",
   "execution_count": 1,
   "id": "56982503-47fb-4dd6-8a27-10fbc8d32fb6",
   "metadata": {},
   "outputs": [
    {
     "name": "stdout",
     "output_type": "stream",
     "text": [
      "Migrating database to v0.21.6\n",
      "Downloading dataset to '/Users/ayinaanyachebelu/fiftyone/quickstart'\n",
      "Downloading dataset...\n",
      " 100% |████|  187.5Mb/187.5Mb [1.1s elapsed, 0s remaining, 183.8Mb/s]         \n",
      "Extracting dataset...\n",
      "Parsing dataset metadata\n",
      "Found 200 samples\n",
      "Dataset info written to '/Users/ayinaanyachebelu/fiftyone/quickstart/info.json'\n",
      "Loading 'quickstart'\n",
      " 100% |█████████████████| 200/200 [2.6s elapsed, 0s remaining, 70.9 samples/s]       \n",
      "Dataset 'quickstart' created\n"
     ]
    }
   ],
   "source": [
    "import fiftyone as fo\n",
    "import fiftyone.zoo as foz\n",
    "import fiftyone.utils.coco as fouc\n",
    "\n",
    "dataset = foz.load_zoo_dataset(\"quickstart\")\n",
    "classes = dataset.distinct(\"predictions.detections.label\")"
   ]
  },
  {
   "cell_type": "code",
   "execution_count": null,
   "id": "ae3690aa-a687-4505-b909-8a95d91e1e2d",
   "metadata": {},
   "outputs": [],
   "source": []
  }
 ],
 "metadata": {
  "kernelspec": {
   "display_name": "Python 3 (ipykernel)",
   "language": "python",
   "name": "python3"
  },
  "language_info": {
   "codemirror_mode": {
    "name": "ipython",
    "version": 3
   },
   "file_extension": ".py",
   "mimetype": "text/x-python",
   "name": "python",
   "nbconvert_exporter": "python",
   "pygments_lexer": "ipython3",
   "version": "3.10.6"
  }
 },
 "nbformat": 4,
 "nbformat_minor": 5
}
