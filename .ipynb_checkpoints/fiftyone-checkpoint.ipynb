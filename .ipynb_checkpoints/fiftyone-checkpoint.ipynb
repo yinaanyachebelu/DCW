{
 "cells": [
  {
   "cell_type": "code",
   "execution_count": null,
   "id": "75bb6efd-3d0e-47b7-8838-594d94c1f549",
   "metadata": {},
   "outputs": [],
   "source": [
    "import fiftyone as fo\n",
    "import fiftyone.zoo as foz\n",
    "import fiftyone.utils.coco as fouc"
   ]
  },
  {
   "cell_type": "code",
   "execution_count": null,
   "id": "93d4baf9-fb95-43ef-9426-1bc17f096a25",
   "metadata": {},
   "outputs": [],
   "source": [
    "classes = [\n",
    "\"Waterhemp\",\n",
    "\"MorningGlory\",\n",
    "\"Purslane\",\n",
    "\"SpottedSpurge\",\n",
    "\"Carpetweed\",\n",
    "\"Ragweed\",\n",
    "\"Eclipta\",\n",
    "\"PricklySida\",\n",
    "\"PalmerAmaranth\",\n",
    "\"Sicklepod\",\n",
    "\"Goosegrass\",\n",
    "\"CutleafGroundcherry\",\n",
    "\"Horsenettle\",\n",
    "\"Nutsedge\",\n",
    "\"HophornbeamCopperleaf\",\n",
    "\"Smellmelon\",\n",
    "\"PurpleAmmannia\",\n",
    "\"PricklyLettuce\",\n",
    "\"HempSesbania\",\n",
    "\"VirginiaButtonweed\",\n",
    "\"Cocklebur\"\n",
    "]"
   ]
  },
  {
   "cell_type": "code",
   "execution_count": null,
   "id": "980e3474-bbc0-4149-bc1f-4df473d408ae",
   "metadata": {},
   "outputs": [],
   "source": [
    "name = \"test-weed\"\n",
    "\n",
    "# The directory containing the source images\n",
    "data_path = \"/home/ayina/MscThesis/DCW/datasets/Dataset_final/DATA_0_COCO_format/test2017\"\n",
    "\n",
    "# The path to the COCO labels JSON file\n",
    "gt_path = \"/home/ayina/MscThesis/DCW/datasets/Dataset_final/DATA_0_COCO_format/annotations/instances_test2017.json\"\n",
    "\n",
    "# Import the dataset\n",
    "dataset = fo.Dataset.from_dir(\n",
    "    dataset_type=fo.types.COCODetectionDataset,\n",
    "    data_path=data_path,\n",
    "    #labels_path=labels_path,\n",
    "    name = name\n",
    ")"
   ]
  },
  {
   "cell_type": "code",
   "execution_count": null,
   "id": "5a3a543a-adcc-4ba7-8d2f-78a8add28950",
   "metadata": {},
   "outputs": [],
   "source": [
    "# And add model predictions\n",
    "pred_path_detr = '/home/ayina/MscThesis/DCW/detr-main/preds/test_predictions.json'\n",
    "pred_path_deform = '/home/ayina/MscThesis/DCW/deformable-detr/preds/test_predictions.json'\n",
    "\n",
    "fouc.add_coco_labels(\n",
    "    sample_collection = dataset,\n",
    "    label_field = \"ground_truth\"\n",
    "    labels_or_path = gt_path\n",
    "    classes = classes,\n",
    "    label_type = \"detections\"\n",
    ")\n",
    "\n",
    "fouc.add_coco_labels(\n",
    "    sample_collection = dataset,\n",
    "    label_field = \"predictions\"\n",
    "    labels_or_path = pred_path_deform\n",
    "    classes = classes,\n",
    "    label_type = \"detections\"\n",
    ")\n",
    "\n",
    "results = evaluate_detections(\n",
    "    dataset,\n",
    "    \"predictions\",\n",
    "    gt_field=\"ground_truth\",\n",
    "    eval_key=\"eval_predictions\",\n",
    ")"
   ]
  }
 ],
 "metadata": {
  "kernelspec": {
   "display_name": "Python 3 (ipykernel)",
   "language": "python",
   "name": "python3"
  },
  "language_info": {
   "codemirror_mode": {
    "name": "ipython",
    "version": 3
   },
   "file_extension": ".py",
   "mimetype": "text/x-python",
   "name": "python",
   "nbconvert_exporter": "python",
   "pygments_lexer": "ipython3",
   "version": "3.10.6"
  }
 },
 "nbformat": 4,
 "nbformat_minor": 5
}
